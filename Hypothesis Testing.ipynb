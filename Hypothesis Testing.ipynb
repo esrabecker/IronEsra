{
 "cells": [
  {
   "cell_type": "markdown",
   "id": "22d1bd2a",
   "metadata": {},
   "source": [
    "# Set up the hypothesis"
   ]
  },
  {
   "cell_type": "code",
   "execution_count": 36,
   "id": "64ac3dcd",
   "metadata": {},
   "outputs": [
    {
     "ename": "SyntaxError",
     "evalue": "cannot assign to literal (753687626.py, line 3)",
     "output_type": "error",
     "traceback": [
      "\u001b[0;36m  Input \u001b[0;32mIn [36]\u001b[0;36m\u001b[0m\n\u001b[0;31m    Sample_mean= 130.1, n=100, s= 21.21\u001b[0m\n\u001b[0m                 ^\u001b[0m\n\u001b[0;31mSyntaxError\u001b[0m\u001b[0;31m:\u001b[0m cannot assign to literal\n"
     ]
    }
   ],
   "source": [
    "#Ho_mean= 120 \n",
    "#Ha_mean= 120 \n",
    "#Sample_mean= 130.1, n=100, s= 21.21\n",
    "#Is the group significantly different (with respect to systolic blood pressure!) from the regular population?"
   ]
  },
  {
   "cell_type": "markdown",
   "id": "8e1f958d",
   "metadata": {},
   "source": [
    "# Hypothesis Testing"
   ]
  },
  {
   "cell_type": "markdown",
   "id": "9b6d5aac",
   "metadata": {},
   "source": [
    "-Fix the confidence level. = 95 %\n",
    "\n",
    "-Compute the test statistic. My sample parameter t \n",
    "\n",
    "-Compute the critical value of the corresponding distribution.\n",
    "\n",
    "-Compare the test statistic with the critical value.\n",
    "\n",
    "-If the test statistic is in the allowed region, (the allowed region is determined by the confidence level) fail to reject  the null hypothesis, otherwise reject the null hypothesis.\n",
    "\n",
    "-The allowed region depends on the type of test(one tail-test or two-tail test)."
   ]
  },
  {
   "cell_type": "code",
   "execution_count": 37,
   "id": "1c1d8719",
   "metadata": {},
   "outputs": [],
   "source": [
    "import pandas as pd\n",
    "from scipy import stats\n",
    "import numpy as np"
   ]
  },
  {
   "cell_type": "code",
   "execution_count": 25,
   "id": "9120e2b8",
   "metadata": {},
   "outputs": [],
   "source": [
    "tc = +stats.t.ppf(1-(0.05/2),df=99)"
   ]
  },
  {
   "cell_type": "code",
   "execution_count": 26,
   "id": "e3913119",
   "metadata": {},
   "outputs": [
    {
     "data": {
      "text/plain": [
       "1.9842169515086827"
      ]
     },
     "execution_count": 26,
     "metadata": {},
     "output_type": "execute_result"
    }
   ],
   "source": [
    "tc"
   ]
  },
  {
   "cell_type": "code",
   "execution_count": 42,
   "id": "04823741",
   "metadata": {},
   "outputs": [],
   "source": [
    "mean =130"
   ]
  },
  {
   "cell_type": "code",
   "execution_count": 40,
   "id": "de6a8bb3",
   "metadata": {},
   "outputs": [
    {
     "ename": "TypeError",
     "evalue": "object of type 'float' has no len()",
     "output_type": "error",
     "traceback": [
      "\u001b[0;31m---------------------------------------------------------------------------\u001b[0m",
      "\u001b[0;31mTypeError\u001b[0m                                 Traceback (most recent call last)",
      "Input \u001b[0;32mIn [40]\u001b[0m, in \u001b[0;36m<cell line: 1>\u001b[0;34m()\u001b[0m\n\u001b[0;32m----> 1\u001b[0m std_error \u001b[38;5;241m=\u001b[39m np\u001b[38;5;241m.\u001b[39mstd(\u001b[38;5;241m130.1\u001b[39m) \u001b[38;5;241m/\u001b[39m np\u001b[38;5;241m.\u001b[39msqrt(\u001b[38;5;28;43mlen\u001b[39;49m\u001b[43m(\u001b[49m\u001b[43mmean\u001b[49m\u001b[43m)\u001b[49m)\n",
      "\u001b[0;31mTypeError\u001b[0m: object of type 'float' has no len()"
     ]
    }
   ],
   "source": [
    "std_error = np.std(130.1) / np.sqrt(len())"
   ]
  }
 ],
 "metadata": {
  "kernelspec": {
   "display_name": "Python 3 (ipykernel)",
   "language": "python",
   "name": "python3"
  },
  "language_info": {
   "codemirror_mode": {
    "name": "ipython",
    "version": 3
   },
   "file_extension": ".py",
   "mimetype": "text/x-python",
   "name": "python",
   "nbconvert_exporter": "python",
   "pygments_lexer": "ipython3",
   "version": "3.9.12"
  },
  "toc": {
   "base_numbering": 1,
   "nav_menu": {},
   "number_sections": true,
   "sideBar": true,
   "skip_h1_title": false,
   "title_cell": "Table of Contents",
   "title_sidebar": "Contents",
   "toc_cell": false,
   "toc_position": {},
   "toc_section_display": true,
   "toc_window_display": false
  }
 },
 "nbformat": 4,
 "nbformat_minor": 5
}
