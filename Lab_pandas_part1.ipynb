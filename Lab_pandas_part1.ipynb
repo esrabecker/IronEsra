{
 "cells": [
  {
   "cell_type": "markdown",
   "metadata": {
    "id": "N1YkD9XI6Fg3"
   },
   "source": [
    "# Using Pandas"
   ]
  },
  {
   "cell_type": "code",
   "execution_count": 81,
   "metadata": {
    "executionInfo": {
     "elapsed": 4,
     "status": "ok",
     "timestamp": 1623140082185,
     "user": {
      "displayName": "Ignacio Soteras",
      "photoUrl": "",
      "userId": "02050793736257155229"
     },
     "user_tz": -120
    },
    "id": "jL4kjGt66Fg5"
   },
   "outputs": [],
   "source": [
    "import pandas as pd\n",
    "import numpy as np\n",
    "pd.set_option('display.max_rows', 200)\n",
    "## to make it possible to display multiple output inside one cell \n",
    "from IPython.core.interactiveshell import InteractiveShell\n",
    "InteractiveShell.ast_node_interactivity = \"all\""
   ]
  },
  {
   "cell_type": "markdown",
   "metadata": {},
   "source": [
    "<b>load the data from the vehicles.csv file into pandas data frame"
   ]
  },
  {
   "cell_type": "code",
   "execution_count": 82,
   "metadata": {
    "executionInfo": {
     "elapsed": 1346,
     "status": "ok",
     "timestamp": 1623140174431,
     "user": {
      "displayName": "Ignacio Soteras",
      "photoUrl": "",
      "userId": "02050793736257155229"
     },
     "user_tz": -120
    },
    "id": "GVHPs2Qa6Fg5"
   },
   "outputs": [
    {
     "data": {
      "text/html": [
       "<div>\n",
       "<style scoped>\n",
       "    .dataframe tbody tr th:only-of-type {\n",
       "        vertical-align: middle;\n",
       "    }\n",
       "\n",
       "    .dataframe tbody tr th {\n",
       "        vertical-align: top;\n",
       "    }\n",
       "\n",
       "    .dataframe thead th {\n",
       "        text-align: right;\n",
       "    }\n",
       "</style>\n",
       "<table border=\"1\" class=\"dataframe\">\n",
       "  <thead>\n",
       "    <tr style=\"text-align: right;\">\n",
       "      <th></th>\n",
       "      <th>Make</th>\n",
       "      <th>Model</th>\n",
       "      <th>Year</th>\n",
       "      <th>Engine Displacement</th>\n",
       "      <th>Cylinders</th>\n",
       "      <th>Transmission</th>\n",
       "      <th>Drivetrain</th>\n",
       "      <th>Vehicle Class</th>\n",
       "      <th>Fuel Type</th>\n",
       "      <th>Fuel Barrels/Year</th>\n",
       "      <th>City MPG</th>\n",
       "      <th>Highway MPG</th>\n",
       "      <th>Combined MPG</th>\n",
       "      <th>CO2 Emission Grams/Mile</th>\n",
       "      <th>Fuel Cost/Year</th>\n",
       "    </tr>\n",
       "  </thead>\n",
       "  <tbody>\n",
       "    <tr>\n",
       "      <th>0</th>\n",
       "      <td>AM General</td>\n",
       "      <td>DJ Po Vehicle 2WD</td>\n",
       "      <td>1984</td>\n",
       "      <td>2.5</td>\n",
       "      <td>4.0</td>\n",
       "      <td>Automatic 3-spd</td>\n",
       "      <td>2-Wheel Drive</td>\n",
       "      <td>Special Purpose Vehicle 2WD</td>\n",
       "      <td>Regular</td>\n",
       "      <td>19.388824</td>\n",
       "      <td>18</td>\n",
       "      <td>17</td>\n",
       "      <td>17</td>\n",
       "      <td>522.764706</td>\n",
       "      <td>1950</td>\n",
       "    </tr>\n",
       "    <tr>\n",
       "      <th>1</th>\n",
       "      <td>AM General</td>\n",
       "      <td>FJ8c Post Office</td>\n",
       "      <td>1984</td>\n",
       "      <td>4.2</td>\n",
       "      <td>6.0</td>\n",
       "      <td>Automatic 3-spd</td>\n",
       "      <td>2-Wheel Drive</td>\n",
       "      <td>Special Purpose Vehicle 2WD</td>\n",
       "      <td>Regular</td>\n",
       "      <td>25.354615</td>\n",
       "      <td>13</td>\n",
       "      <td>13</td>\n",
       "      <td>13</td>\n",
       "      <td>683.615385</td>\n",
       "      <td>2550</td>\n",
       "    </tr>\n",
       "    <tr>\n",
       "      <th>2</th>\n",
       "      <td>AM General</td>\n",
       "      <td>Post Office DJ5 2WD</td>\n",
       "      <td>1985</td>\n",
       "      <td>2.5</td>\n",
       "      <td>4.0</td>\n",
       "      <td>Automatic 3-spd</td>\n",
       "      <td>Rear-Wheel Drive</td>\n",
       "      <td>Special Purpose Vehicle 2WD</td>\n",
       "      <td>Regular</td>\n",
       "      <td>20.600625</td>\n",
       "      <td>16</td>\n",
       "      <td>17</td>\n",
       "      <td>16</td>\n",
       "      <td>555.437500</td>\n",
       "      <td>2100</td>\n",
       "    </tr>\n",
       "    <tr>\n",
       "      <th>3</th>\n",
       "      <td>AM General</td>\n",
       "      <td>Post Office DJ8 2WD</td>\n",
       "      <td>1985</td>\n",
       "      <td>4.2</td>\n",
       "      <td>6.0</td>\n",
       "      <td>Automatic 3-spd</td>\n",
       "      <td>Rear-Wheel Drive</td>\n",
       "      <td>Special Purpose Vehicle 2WD</td>\n",
       "      <td>Regular</td>\n",
       "      <td>25.354615</td>\n",
       "      <td>13</td>\n",
       "      <td>13</td>\n",
       "      <td>13</td>\n",
       "      <td>683.615385</td>\n",
       "      <td>2550</td>\n",
       "    </tr>\n",
       "    <tr>\n",
       "      <th>4</th>\n",
       "      <td>ASC Incorporated</td>\n",
       "      <td>GNX</td>\n",
       "      <td>1987</td>\n",
       "      <td>3.8</td>\n",
       "      <td>6.0</td>\n",
       "      <td>Automatic 4-spd</td>\n",
       "      <td>Rear-Wheel Drive</td>\n",
       "      <td>Midsize Cars</td>\n",
       "      <td>Premium</td>\n",
       "      <td>20.600625</td>\n",
       "      <td>14</td>\n",
       "      <td>21</td>\n",
       "      <td>16</td>\n",
       "      <td>555.437500</td>\n",
       "      <td>2550</td>\n",
       "    </tr>\n",
       "    <tr>\n",
       "      <th>...</th>\n",
       "      <td>...</td>\n",
       "      <td>...</td>\n",
       "      <td>...</td>\n",
       "      <td>...</td>\n",
       "      <td>...</td>\n",
       "      <td>...</td>\n",
       "      <td>...</td>\n",
       "      <td>...</td>\n",
       "      <td>...</td>\n",
       "      <td>...</td>\n",
       "      <td>...</td>\n",
       "      <td>...</td>\n",
       "      <td>...</td>\n",
       "      <td>...</td>\n",
       "      <td>...</td>\n",
       "    </tr>\n",
       "    <tr>\n",
       "      <th>35947</th>\n",
       "      <td>smart</td>\n",
       "      <td>fortwo coupe</td>\n",
       "      <td>2013</td>\n",
       "      <td>1.0</td>\n",
       "      <td>3.0</td>\n",
       "      <td>Auto(AM5)</td>\n",
       "      <td>Rear-Wheel Drive</td>\n",
       "      <td>Two Seaters</td>\n",
       "      <td>Premium</td>\n",
       "      <td>9.155833</td>\n",
       "      <td>34</td>\n",
       "      <td>38</td>\n",
       "      <td>36</td>\n",
       "      <td>244.000000</td>\n",
       "      <td>1100</td>\n",
       "    </tr>\n",
       "    <tr>\n",
       "      <th>35948</th>\n",
       "      <td>smart</td>\n",
       "      <td>fortwo coupe</td>\n",
       "      <td>2014</td>\n",
       "      <td>1.0</td>\n",
       "      <td>3.0</td>\n",
       "      <td>Auto(AM5)</td>\n",
       "      <td>Rear-Wheel Drive</td>\n",
       "      <td>Two Seaters</td>\n",
       "      <td>Premium</td>\n",
       "      <td>9.155833</td>\n",
       "      <td>34</td>\n",
       "      <td>38</td>\n",
       "      <td>36</td>\n",
       "      <td>243.000000</td>\n",
       "      <td>1100</td>\n",
       "    </tr>\n",
       "    <tr>\n",
       "      <th>35949</th>\n",
       "      <td>smart</td>\n",
       "      <td>fortwo coupe</td>\n",
       "      <td>2015</td>\n",
       "      <td>1.0</td>\n",
       "      <td>3.0</td>\n",
       "      <td>Auto(AM5)</td>\n",
       "      <td>Rear-Wheel Drive</td>\n",
       "      <td>Two Seaters</td>\n",
       "      <td>Premium</td>\n",
       "      <td>9.155833</td>\n",
       "      <td>34</td>\n",
       "      <td>38</td>\n",
       "      <td>36</td>\n",
       "      <td>244.000000</td>\n",
       "      <td>1100</td>\n",
       "    </tr>\n",
       "    <tr>\n",
       "      <th>35950</th>\n",
       "      <td>smart</td>\n",
       "      <td>fortwo coupe</td>\n",
       "      <td>2016</td>\n",
       "      <td>0.9</td>\n",
       "      <td>3.0</td>\n",
       "      <td>Auto(AM6)</td>\n",
       "      <td>Rear-Wheel Drive</td>\n",
       "      <td>Two Seaters</td>\n",
       "      <td>Premium</td>\n",
       "      <td>9.155833</td>\n",
       "      <td>34</td>\n",
       "      <td>39</td>\n",
       "      <td>36</td>\n",
       "      <td>246.000000</td>\n",
       "      <td>1100</td>\n",
       "    </tr>\n",
       "    <tr>\n",
       "      <th>35951</th>\n",
       "      <td>smart</td>\n",
       "      <td>fortwo coupe</td>\n",
       "      <td>2016</td>\n",
       "      <td>0.9</td>\n",
       "      <td>3.0</td>\n",
       "      <td>Manual 5-spd</td>\n",
       "      <td>Rear-Wheel Drive</td>\n",
       "      <td>Two Seaters</td>\n",
       "      <td>Premium</td>\n",
       "      <td>9.417429</td>\n",
       "      <td>32</td>\n",
       "      <td>39</td>\n",
       "      <td>35</td>\n",
       "      <td>255.000000</td>\n",
       "      <td>1150</td>\n",
       "    </tr>\n",
       "  </tbody>\n",
       "</table>\n",
       "<p>35952 rows × 15 columns</p>\n",
       "</div>"
      ],
      "text/plain": [
       "                   Make                Model  Year  Engine Displacement  \\\n",
       "0            AM General    DJ Po Vehicle 2WD  1984                  2.5   \n",
       "1            AM General     FJ8c Post Office  1984                  4.2   \n",
       "2            AM General  Post Office DJ5 2WD  1985                  2.5   \n",
       "3            AM General  Post Office DJ8 2WD  1985                  4.2   \n",
       "4      ASC Incorporated                  GNX  1987                  3.8   \n",
       "...                 ...                  ...   ...                  ...   \n",
       "35947             smart         fortwo coupe  2013                  1.0   \n",
       "35948             smart         fortwo coupe  2014                  1.0   \n",
       "35949             smart         fortwo coupe  2015                  1.0   \n",
       "35950             smart         fortwo coupe  2016                  0.9   \n",
       "35951             smart         fortwo coupe  2016                  0.9   \n",
       "\n",
       "       Cylinders     Transmission        Drivetrain  \\\n",
       "0            4.0  Automatic 3-spd     2-Wheel Drive   \n",
       "1            6.0  Automatic 3-spd     2-Wheel Drive   \n",
       "2            4.0  Automatic 3-spd  Rear-Wheel Drive   \n",
       "3            6.0  Automatic 3-spd  Rear-Wheel Drive   \n",
       "4            6.0  Automatic 4-spd  Rear-Wheel Drive   \n",
       "...          ...              ...               ...   \n",
       "35947        3.0        Auto(AM5)  Rear-Wheel Drive   \n",
       "35948        3.0        Auto(AM5)  Rear-Wheel Drive   \n",
       "35949        3.0        Auto(AM5)  Rear-Wheel Drive   \n",
       "35950        3.0        Auto(AM6)  Rear-Wheel Drive   \n",
       "35951        3.0     Manual 5-spd  Rear-Wheel Drive   \n",
       "\n",
       "                     Vehicle Class Fuel Type  Fuel Barrels/Year  City MPG  \\\n",
       "0      Special Purpose Vehicle 2WD   Regular          19.388824        18   \n",
       "1      Special Purpose Vehicle 2WD   Regular          25.354615        13   \n",
       "2      Special Purpose Vehicle 2WD   Regular          20.600625        16   \n",
       "3      Special Purpose Vehicle 2WD   Regular          25.354615        13   \n",
       "4                     Midsize Cars   Premium          20.600625        14   \n",
       "...                            ...       ...                ...       ...   \n",
       "35947                  Two Seaters   Premium           9.155833        34   \n",
       "35948                  Two Seaters   Premium           9.155833        34   \n",
       "35949                  Two Seaters   Premium           9.155833        34   \n",
       "35950                  Two Seaters   Premium           9.155833        34   \n",
       "35951                  Two Seaters   Premium           9.417429        32   \n",
       "\n",
       "       Highway MPG  Combined MPG  CO2 Emission Grams/Mile  Fuel Cost/Year  \n",
       "0               17            17               522.764706            1950  \n",
       "1               13            13               683.615385            2550  \n",
       "2               17            16               555.437500            2100  \n",
       "3               13            13               683.615385            2550  \n",
       "4               21            16               555.437500            2550  \n",
       "...            ...           ...                      ...             ...  \n",
       "35947           38            36               244.000000            1100  \n",
       "35948           38            36               243.000000            1100  \n",
       "35949           38            36               244.000000            1100  \n",
       "35950           39            36               246.000000            1100  \n",
       "35951           39            35               255.000000            1150  \n",
       "\n",
       "[35952 rows x 15 columns]"
      ]
     },
     "execution_count": 82,
     "metadata": {},
     "output_type": "execute_result"
    }
   ],
   "source": [
    "## Your Code here\n",
    "import pandas as pd\n",
    "vehicles_df= pd.read_csv(\"data/vehicles.csv\")\n",
    "vehicles_df"
   ]
  },
  {
   "cell_type": "code",
   "execution_count": 83,
   "metadata": {},
   "outputs": [
    {
     "name": "stdout",
     "output_type": "stream",
     "text": [
      "<class 'pandas.core.frame.DataFrame'>\n",
      "RangeIndex: 35952 entries, 0 to 35951\n",
      "Data columns (total 15 columns):\n",
      " #   Column                   Non-Null Count  Dtype  \n",
      "---  ------                   --------------  -----  \n",
      " 0   Make                     35952 non-null  object \n",
      " 1   Model                    35952 non-null  object \n",
      " 2   Year                     35952 non-null  int64  \n",
      " 3   Engine Displacement      35952 non-null  float64\n",
      " 4   Cylinders                35952 non-null  float64\n",
      " 5   Transmission             35952 non-null  object \n",
      " 6   Drivetrain               35952 non-null  object \n",
      " 7   Vehicle Class            35952 non-null  object \n",
      " 8   Fuel Type                35952 non-null  object \n",
      " 9   Fuel Barrels/Year        35952 non-null  float64\n",
      " 10  City MPG                 35952 non-null  int64  \n",
      " 11  Highway MPG              35952 non-null  int64  \n",
      " 12  Combined MPG             35952 non-null  int64  \n",
      " 13  CO2 Emission Grams/Mile  35952 non-null  float64\n",
      " 14  Fuel Cost/Year           35952 non-null  int64  \n",
      "dtypes: float64(4), int64(5), object(6)\n",
      "memory usage: 4.1+ MB\n"
     ]
    }
   ],
   "source": [
    "vehicles_df.info()"
   ]
  },
  {
   "cell_type": "markdown",
   "metadata": {
    "id": "Yk72_YtZ6Fg5"
   },
   "source": [
    "First exploration of the dataset:\n",
    "\n",
    "- How many observations does it have?\n",
    "- Look at all the columns: do you understand what they mean?\n",
    "- Look at the raw data: do you see anything weird?\n",
    "- Look at the data types: are they the expected ones for the information the column contains?"
   ]
  },
  {
   "cell_type": "code",
   "execution_count": 84,
   "metadata": {
    "colab": {
     "base_uri": "https://localhost:8080/"
    },
    "executionInfo": {
     "elapsed": 226,
     "status": "ok",
     "timestamp": 1623140221705,
     "user": {
      "displayName": "Ignacio Soteras",
      "photoUrl": "",
      "userId": "02050793736257155229"
     },
     "user_tz": -120
    },
    "id": "-FT85oMVPxlW",
    "outputId": "c9f5d2c8-d3c2-4acc-edec-914a92c7f60b"
   },
   "outputs": [
    {
     "data": {
      "text/plain": [
       "35952"
      ]
     },
     "execution_count": 84,
     "metadata": {},
     "output_type": "execute_result"
    }
   ],
   "source": [
    "## Your Code here\n",
    "len(vehicles_df)"
   ]
  },
  {
   "cell_type": "markdown",
   "metadata": {
    "id": "tqcFYXUk6Fg6"
   },
   "source": [
    "### Cleaning and wrangling data\n",
    "\n",
    "- Some car brand names refer to the same brand. Replace all brand names that contain the word \"Dutton\" for simply \"Dutton\". If you find similar examples, clean their names too. Use `loc` with boolean indexing.\n",
    "\n",
    "- Convert CO2 Emissions from Grams/Mile to Grams/Km\n",
    "\n",
    "- Create a binary column that solely indicates if the transmission of a car is automatic or manual. Use `pandas.Series.str.startswith` and .\n",
    "\n",
    "- convert MPG columns to km_per_liter"
   ]
  },
  {
   "cell_type": "code",
   "execution_count": 85,
   "metadata": {
    "colab": {
     "base_uri": "https://localhost:8080/"
    },
    "executionInfo": {
     "elapsed": 239,
     "status": "ok",
     "timestamp": 1623140685861,
     "user": {
      "displayName": "Ignacio Soteras",
      "photoUrl": "",
      "userId": "02050793736257155229"
     },
     "user_tz": -120
    },
    "id": "jPtYqxszRc_h",
    "outputId": "b7a82779-98d2-4f55-e8d7-4a9202cc1274",
    "scrolled": true
   },
   "outputs": [
    {
     "data": {
      "text/html": [
       "<div>\n",
       "<style scoped>\n",
       "    .dataframe tbody tr th:only-of-type {\n",
       "        vertical-align: middle;\n",
       "    }\n",
       "\n",
       "    .dataframe tbody tr th {\n",
       "        vertical-align: top;\n",
       "    }\n",
       "\n",
       "    .dataframe thead th {\n",
       "        text-align: right;\n",
       "    }\n",
       "</style>\n",
       "<table border=\"1\" class=\"dataframe\">\n",
       "  <thead>\n",
       "    <tr style=\"text-align: right;\">\n",
       "      <th></th>\n",
       "      <th>Make</th>\n",
       "      <th>Model</th>\n",
       "      <th>Year</th>\n",
       "      <th>Engine Displacement</th>\n",
       "      <th>Cylinders</th>\n",
       "      <th>Transmission</th>\n",
       "      <th>Drivetrain</th>\n",
       "      <th>Vehicle Class</th>\n",
       "      <th>Fuel Type</th>\n",
       "      <th>Fuel Barrels/Year</th>\n",
       "      <th>City MPG</th>\n",
       "      <th>Highway MPG</th>\n",
       "      <th>Combined MPG</th>\n",
       "      <th>CO2 Emission Grams/Mile</th>\n",
       "      <th>Fuel Cost/Year</th>\n",
       "    </tr>\n",
       "  </thead>\n",
       "  <tbody>\n",
       "    <tr>\n",
       "      <th>11012</th>\n",
       "      <td>Dutton</td>\n",
       "      <td>Funeral Coach</td>\n",
       "      <td>1985</td>\n",
       "      <td>4.1</td>\n",
       "      <td>8.0</td>\n",
       "      <td>Automatic 4-spd</td>\n",
       "      <td>Front-Wheel Drive</td>\n",
       "      <td>Special Purpose Vehicles</td>\n",
       "      <td>Regular</td>\n",
       "      <td>19.388824</td>\n",
       "      <td>15</td>\n",
       "      <td>21</td>\n",
       "      <td>17</td>\n",
       "      <td>522.764706</td>\n",
       "      <td>1950</td>\n",
       "    </tr>\n",
       "    <tr>\n",
       "      <th>30164</th>\n",
       "      <td>Dutton</td>\n",
       "      <td>Funeral Coach  2WD</td>\n",
       "      <td>1984</td>\n",
       "      <td>6.0</td>\n",
       "      <td>8.0</td>\n",
       "      <td>Automatic 3-spd</td>\n",
       "      <td>2-Wheel Drive</td>\n",
       "      <td>Special Purpose Vehicle 2WD</td>\n",
       "      <td>Regular</td>\n",
       "      <td>32.961000</td>\n",
       "      <td>9</td>\n",
       "      <td>11</td>\n",
       "      <td>10</td>\n",
       "      <td>888.700000</td>\n",
       "      <td>3350</td>\n",
       "    </tr>\n",
       "    <tr>\n",
       "      <th>31754</th>\n",
       "      <td>Dutton</td>\n",
       "      <td>Funeral Coach  2WD</td>\n",
       "      <td>1984</td>\n",
       "      <td>6.0</td>\n",
       "      <td>8.0</td>\n",
       "      <td>Automatic 3-spd</td>\n",
       "      <td>2-Wheel Drive</td>\n",
       "      <td>Special Purpose Vehicle 2WD</td>\n",
       "      <td>Regular</td>\n",
       "      <td>32.961000</td>\n",
       "      <td>10</td>\n",
       "      <td>11</td>\n",
       "      <td>10</td>\n",
       "      <td>888.700000</td>\n",
       "      <td>3350</td>\n",
       "    </tr>\n",
       "  </tbody>\n",
       "</table>\n",
       "</div>"
      ],
      "text/plain": [
       "         Make               Model  Year  Engine Displacement  Cylinders  \\\n",
       "11012  Dutton       Funeral Coach  1985                  4.1        8.0   \n",
       "30164  Dutton  Funeral Coach  2WD  1984                  6.0        8.0   \n",
       "31754  Dutton  Funeral Coach  2WD  1984                  6.0        8.0   \n",
       "\n",
       "          Transmission         Drivetrain                Vehicle Class  \\\n",
       "11012  Automatic 4-spd  Front-Wheel Drive     Special Purpose Vehicles   \n",
       "30164  Automatic 3-spd      2-Wheel Drive  Special Purpose Vehicle 2WD   \n",
       "31754  Automatic 3-spd      2-Wheel Drive  Special Purpose Vehicle 2WD   \n",
       "\n",
       "      Fuel Type  Fuel Barrels/Year  City MPG  Highway MPG  Combined MPG  \\\n",
       "11012   Regular          19.388824        15           21            17   \n",
       "30164   Regular          32.961000         9           11            10   \n",
       "31754   Regular          32.961000        10           11            10   \n",
       "\n",
       "       CO2 Emission Grams/Mile  Fuel Cost/Year  \n",
       "11012               522.764706            1950  \n",
       "30164               888.700000            3350  \n",
       "31754               888.700000            3350  "
      ]
     },
     "execution_count": 85,
     "metadata": {},
     "output_type": "execute_result"
    }
   ],
   "source": [
    "## Replaced the brand names which mentioned \"Dutton\" with \"Dutton\"\n",
    "vehicles_df.loc[vehicles_df.Make.str.contains('Dutton'), 'Make'] = 'Dutton'\n",
    "vehicles_df.loc[vehicles_df['Make'].str.contains(\"Dutton\")]\n"
   ]
  },
  {
   "cell_type": "markdown",
   "metadata": {},
   "source": [
    "Converting Grams/Mile to Grams/Km\n",
    "\n",
    "1 Mile = 1.60934 Km\n",
    "\n",
    "Grams/Mile * Mile/Km -> Grams/Mile * 1 Mile/1.60934Km\n",
    "\n",
    "$$ \\frac{Grams}{Mile} * \\frac{Mile}{Km} $$\n",
    "\n",
    "$$ \\frac{Grams}{Mile} * \\frac{1 Mile}{1.60934Km}  $$"
   ]
  },
  {
   "cell_type": "markdown",
   "metadata": {},
   "source": [
    "convert MPG columns to km_per_liter\n",
    "\n",
    "MPG = Miles/Gallon -> Km/Liter\n",
    "\n",
    "1 Mile = 1.60934 Km\n",
    "\n",
    "1 Gallon = 3.78541 Liters\n",
    "\n",
    "$$ \\frac{Miles}{Gallon} -> \\frac{Miles}{Gallon} * \\frac{Km}{Miles} * \\frac{Gallon}{Liters}$$\n",
    "\n",
    "$$ \\frac{Miles}{Gallon} -> \\frac{Miles}{Gallon} * \\frac{1.60934Km}{ 1Miles} * \\frac{1 Gallon}{3.78541 Liters}$$\n",
    "\n",
    "* ( 1.60934 / 3.78541 )"
   ]
  },
  {
   "cell_type": "code",
   "execution_count": 86,
   "metadata": {},
   "outputs": [
    {
     "name": "stdout",
     "output_type": "stream",
     "text": [
      "0         836.423529\n",
      "1        1093.784615\n",
      "2         888.700000\n",
      "3        1093.784615\n",
      "4         888.700000\n",
      "            ...     \n",
      "35947     390.400000\n",
      "35948     388.800000\n",
      "35949     390.400000\n",
      "35950     393.600000\n",
      "35951     408.000000\n",
      "Name: CO2 Emission Grams/Km, Length: 35952, dtype: float64\n"
     ]
    }
   ],
   "source": [
    "#Translated CO2 Emission Grams/Mile to CO2 Emission Grams/Km\n",
    "vehicles_df[\"CO2 Emission Grams/Km\"]=vehicles_df[\"CO2 Emission Grams/Mile\"]  * 1.6\n",
    "print(vehicles_df[\"CO2 Emission Grams/Km\"])"
   ]
  },
  {
   "cell_type": "code",
   "execution_count": 87,
   "metadata": {},
   "outputs": [
    {
     "data": {
      "text/plain": [
       "0        Automatic 3-spd\n",
       "1        Automatic 3-spd\n",
       "2        Automatic 3-spd\n",
       "3        Automatic 3-spd\n",
       "4        Automatic 4-spd\n",
       "              ...       \n",
       "35947          Auto(AM5)\n",
       "35948          Auto(AM5)\n",
       "35949          Auto(AM5)\n",
       "35950          Auto(AM6)\n",
       "35951       Manual 5-spd\n",
       "Name: Transmission, Length: 35952, dtype: object"
      ]
     },
     "execution_count": 87,
     "metadata": {},
     "output_type": "execute_result"
    }
   ],
   "source": [
    "#To see the transmission types created a single series from the file\n",
    "Transmission_type = vehicles_df['Transmission']\n",
    "Transmission_type"
   ]
  },
  {
   "cell_type": "code",
   "execution_count": 104,
   "metadata": {},
   "outputs": [
    {
     "data": {
      "text/plain": [
       "0         True\n",
       "1         True\n",
       "2         True\n",
       "3         True\n",
       "4         True\n",
       "         ...  \n",
       "35947    False\n",
       "35948    False\n",
       "35949    False\n",
       "35950    False\n",
       "35951    False\n",
       "Name: Transmission, Length: 35952, dtype: bool"
      ]
     },
     "execution_count": 104,
     "metadata": {},
     "output_type": "execute_result"
    }
   ],
   "source": [
    "Transmission_type = pd.Series(vehicles_df['Transmission'])\n",
    "Transmission_type = Transmission_type.str.startswith('Automatic', na= False)\n",
    "Transmission_type"
   ]
  },
  {
   "cell_type": "code",
   "execution_count": 105,
   "metadata": {},
   "outputs": [
    {
     "name": "stdout",
     "output_type": "stream",
     "text": [
      "                   Make                Model  Year  Engine Displacement  \\\n",
      "0            AM General    DJ Po Vehicle 2WD  1984                  2.5   \n",
      "1            AM General     FJ8c Post Office  1984                  4.2   \n",
      "2            AM General  Post Office DJ5 2WD  1985                  2.5   \n",
      "3            AM General  Post Office DJ8 2WD  1985                  4.2   \n",
      "4      ASC Incorporated                  GNX  1987                  3.8   \n",
      "...                 ...                  ...   ...                  ...   \n",
      "35947             smart         fortwo coupe  2013                  1.0   \n",
      "35948             smart         fortwo coupe  2014                  1.0   \n",
      "35949             smart         fortwo coupe  2015                  1.0   \n",
      "35950             smart         fortwo coupe  2016                  0.9   \n",
      "35951             smart         fortwo coupe  2016                  0.9   \n",
      "\n",
      "       Cylinders     Transmission        Drivetrain  \\\n",
      "0            4.0  Automatic 3-spd     2-Wheel Drive   \n",
      "1            6.0  Automatic 3-spd     2-Wheel Drive   \n",
      "2            4.0  Automatic 3-spd  Rear-Wheel Drive   \n",
      "3            6.0  Automatic 3-spd  Rear-Wheel Drive   \n",
      "4            6.0  Automatic 4-spd  Rear-Wheel Drive   \n",
      "...          ...              ...               ...   \n",
      "35947        3.0        Auto(AM5)  Rear-Wheel Drive   \n",
      "35948        3.0        Auto(AM5)  Rear-Wheel Drive   \n",
      "35949        3.0        Auto(AM5)  Rear-Wheel Drive   \n",
      "35950        3.0        Auto(AM6)  Rear-Wheel Drive   \n",
      "35951        3.0     Manual 5-spd  Rear-Wheel Drive   \n",
      "\n",
      "                     Vehicle Class Fuel Type  Fuel Barrels/Year  City MPG  \\\n",
      "0      Special Purpose Vehicle 2WD   Regular          19.388824        18   \n",
      "1      Special Purpose Vehicle 2WD   Regular          25.354615        13   \n",
      "2      Special Purpose Vehicle 2WD   Regular          20.600625        16   \n",
      "3      Special Purpose Vehicle 2WD   Regular          25.354615        13   \n",
      "4                     Midsize Cars   Premium          20.600625        14   \n",
      "...                            ...       ...                ...       ...   \n",
      "35947                  Two Seaters   Premium           9.155833        34   \n",
      "35948                  Two Seaters   Premium           9.155833        34   \n",
      "35949                  Two Seaters   Premium           9.155833        34   \n",
      "35950                  Two Seaters   Premium           9.155833        34   \n",
      "35951                  Two Seaters   Premium           9.417429        32   \n",
      "\n",
      "       Highway MPG  Combined MPG  CO2 Emission Grams/Mile  Fuel Cost/Year  \\\n",
      "0               17            17               522.764706            1950   \n",
      "1               13            13               683.615385            2550   \n",
      "2               17            16               555.437500            2100   \n",
      "3               13            13               683.615385            2550   \n",
      "4               21            16               555.437500            2550   \n",
      "...            ...           ...                      ...             ...   \n",
      "35947           38            36               244.000000            1100   \n",
      "35948           38            36               243.000000            1100   \n",
      "35949           38            36               244.000000            1100   \n",
      "35950           39            36               246.000000            1100   \n",
      "35951           39            35               255.000000            1150   \n",
      "\n",
      "       CO2 Emission Grams/Km  Transmission_type  \n",
      "0                 836.423529               True  \n",
      "1                1093.784615               True  \n",
      "2                 888.700000               True  \n",
      "3                1093.784615               True  \n",
      "4                 888.700000               True  \n",
      "...                      ...                ...  \n",
      "35947             390.400000              False  \n",
      "35948             388.800000              False  \n",
      "35949             390.400000              False  \n",
      "35950             393.600000              False  \n",
      "35951             408.000000              False  \n",
      "\n",
      "[35952 rows x 17 columns]\n"
     ]
    }
   ],
   "source": [
    "vehicles_df[\"Transmission_type\"] = Transmission_type\n",
    "print(vehicles_df)"
   ]
  },
  {
   "cell_type": "code",
   "execution_count": 106,
   "metadata": {},
   "outputs": [
    {
     "name": "stdout",
     "output_type": "stream",
     "text": [
      "0         64.26\n",
      "1         49.14\n",
      "2         60.48\n",
      "3         49.14\n",
      "4         60.48\n",
      "          ...  \n",
      "35947    136.08\n",
      "35948    136.08\n",
      "35949    136.08\n",
      "35950    136.08\n",
      "35951    132.30\n",
      "Name: km_per_liter, Length: 35952, dtype: float64\n"
     ]
    }
   ],
   "source": [
    "# Convert Combine MPG into KM_per_liter\n",
    "vehicles_df[\"km_per_liter\"]=vehicles_df[\"Combined MPG\"]  * 3.78\n",
    "print(vehicles_df[\"km_per_liter\"])"
   ]
  },
  {
   "cell_type": "markdown",
   "metadata": {
    "id": "SRZZJAPQ6Fg6"
   },
   "source": [
    "### Gathering insights:\n",
    "\n",
    "- How many car makers are there? How many models? Which car maker has the most cars in the dataset?\n",
    "\n",
    "- When were these cars made? How big is the engine of these cars?\n",
    "\n",
    "- What's the frequency of different transmissions, drivetrains and fuel types?\n",
    "\n",
    "- What's the car that consumes the least/most fuel?"
   ]
  },
  {
   "cell_type": "code",
   "execution_count": 109,
   "metadata": {
    "colab": {
     "base_uri": "https://localhost:8080/"
    },
    "executionInfo": {
     "elapsed": 346,
     "status": "ok",
     "timestamp": 1623143226628,
     "user": {
      "displayName": "Ignacio Soteras",
      "photoUrl": "",
      "userId": "02050793736257155229"
     },
     "user_tz": -120
    },
    "id": "LS-EOV3f6Fg7",
    "outputId": "7244f51d-279e-4a71-ba35-63d2969f5a74"
   },
   "outputs": [
    {
     "name": "stdout",
     "output_type": "stream",
     "text": [
      "125\n"
     ]
    }
   ],
   "source": [
    "# To find the amount of the car makers first found the unique values in brand column\n",
    "#Then got the length of the brands which shows us 125\n",
    "brands = vehicles_df['Make'].unique()\n",
    "print(len(brands))"
   ]
  },
  {
   "cell_type": "code",
   "execution_count": 112,
   "metadata": {},
   "outputs": [
    {
     "name": "stdout",
     "output_type": "stream",
     "text": [
      "3608\n"
     ]
    }
   ],
   "source": [
    "#found the Numbers of models with the same way\n",
    "models = vehicles_df['Model'].unique()\n",
    "print(len(models))"
   ]
  },
  {
   "cell_type": "code",
   "execution_count": 129,
   "metadata": {},
   "outputs": [
    {
     "data": {
      "text/plain": [
       "Make\n",
       "AM General                            4\n",
       "ASC Incorporated                      1\n",
       "Acura                                39\n",
       "Alfa Romeo                            8\n",
       "American Motors Corporation           4\n",
       "Aston Martin                         30\n",
       "Audi                                 95\n",
       "Aurora Cars Ltd                       1\n",
       "Autokraft Limited                     2\n",
       "BMW                                 284\n",
       "BMW Alpina                            2\n",
       "Bentley                              22\n",
       "Bertone                               1\n",
       "Bill Dovell Motor Car Company         2\n",
       "Bitter Gmbh and Co. Kg                1\n",
       "Bugatti                               1\n",
       "Buick                                44\n",
       "CCC Engineering                       1\n",
       "CX Automotive                         7\n",
       "Cadillac                             66\n",
       "Chevrolet                           253\n",
       "Chrysler                             65\n",
       "Consulier Industries Inc              1\n",
       "Dabryan Coach Builders Inc            1\n",
       "Dacia                                 3\n",
       "Daewoo                                8\n",
       "Daihatsu                              3\n",
       "Dodge                               118\n",
       "Dutton                                2\n",
       "Eagle                                10\n",
       "Environmental Rsch and Devp Corp      1\n",
       "Evans Automobiles                     2\n",
       "Excalibur Autos                       1\n",
       "Federal Coach                        14\n",
       "Ferrari                              60\n",
       "Fiat                                  7\n",
       "Fisker                                1\n",
       "Ford                                185\n",
       "GMC                                 163\n",
       "General Motors                        1\n",
       "Genesis                               4\n",
       "Geo                                  15\n",
       "Goldacre                              1\n",
       "Grumman Allied Industries             1\n",
       "Grumman Olson                         1\n",
       "Honda                                45\n",
       "Hummer                                4\n",
       "Hyundai                              64\n",
       "Import Foreign Auto Sales Inc         1\n",
       "Import Trade Services                12\n",
       "Infiniti                             82\n",
       "Isis Imports Ltd                      1\n",
       "Isuzu                                36\n",
       "J.K. Motors                          21\n",
       "JBA Motorcars, Inc.                   1\n",
       "Jaguar                               66\n",
       "Jeep                                 50\n",
       "Kia                                  42\n",
       "Laforza Automobile Inc                1\n",
       "Lambda Control Systems                1\n",
       "Lamborghini                          23\n",
       "Land Rover                           26\n",
       "Lexus                                72\n",
       "Lincoln                              37\n",
       "London Coach Co Inc                   1\n",
       "London Taxi                           1\n",
       "Lotus                                10\n",
       "MINI                                 42\n",
       "Mahindra                              1\n",
       "Maserati                             31\n",
       "Maybach                               8\n",
       "Mazda                                74\n",
       "McLaren Automotive                    8\n",
       "Mcevoy Motors                         4\n",
       "Mercedes-Benz                       333\n",
       "Mercury                              51\n",
       "Merkur                                2\n",
       "Mitsubishi                           51\n",
       "Mobility Ventures LLC                 2\n",
       "Morgan                                1\n",
       "Nissan                               94\n",
       "Oldsmobile                           33\n",
       "PAS Inc - GMC                         2\n",
       "PAS, Inc                              2\n",
       "Pagani                                1\n",
       "Panos                                 1\n",
       "Panoz Auto-Development                1\n",
       "Panther Car Company Limited           1\n",
       "Peugeot                               7\n",
       "Pininfarina                           1\n",
       "Plymouth                             23\n",
       "Pontiac                              57\n",
       "Porsche                             121\n",
       "Quantum Technologies                  1\n",
       "Qvale                                 1\n",
       "Ram                                   7\n",
       "Red Shift Ltd.                        1\n",
       "Renault                               8\n",
       "Rolls-Royce                          47\n",
       "Roush Performance                    18\n",
       "Ruf Automobile Gmbh                   1\n",
       "SRT                                   1\n",
       "Saab                                 28\n",
       "Saleen                                3\n",
       "Saleen Performance                    3\n",
       "Saturn                               24\n",
       "Scion                                 8\n",
       "Shelby                                1\n",
       "Spyker                                7\n",
       "Sterling                              2\n",
       "Subaru                               61\n",
       "Suzuki                               77\n",
       "TVR Engineering Ltd                   4\n",
       "Tecstar, LP                           6\n",
       "Texas Coach Company                   4\n",
       "Toyota                              100\n",
       "VPG                                   2\n",
       "Vector                                2\n",
       "Vixen Motor Company                   1\n",
       "Volga Associated Automobile           1\n",
       "Volkswagen                           63\n",
       "Volvo                                83\n",
       "Wallace Environmental                18\n",
       "Yugo                                  4\n",
       "smart                                 3\n",
       "Name: Model, dtype: int64"
      ]
     },
     "execution_count": 129,
     "metadata": {},
     "output_type": "execute_result"
    }
   ],
   "source": [
    "#Numbers of Models for each brand\n",
    "numbers_each_brands= vehicles_df.groupby('Make')['Model'].nunique()\n",
    "numbers_each_brands"
   ]
  },
  {
   "cell_type": "code",
   "execution_count": 137,
   "metadata": {},
   "outputs": [
    {
     "data": {
      "text/plain": [
       "True"
      ]
     },
     "execution_count": 137,
     "metadata": {},
     "output_type": "execute_result"
    },
    {
     "data": {
      "text/plain": [
       "Chevrolet                           3643\n",
       "Ford                                2946\n",
       "Dodge                               2360\n",
       "GMC                                 2347\n",
       "Toyota                              1836\n",
       "BMW                                 1677\n",
       "Mercedes-Benz                       1284\n",
       "Nissan                              1253\n",
       "Volkswagen                          1047\n",
       "Mitsubishi                           950\n",
       "Mazda                                915\n",
       "Audi                                 890\n",
       "Porsche                              862\n",
       "Honda                                836\n",
       "Jeep                                 829\n",
       "Pontiac                              784\n",
       "Subaru                               781\n",
       "Volvo                                717\n",
       "Hyundai                              662\n",
       "Chrysler                             641\n",
       "Buick                                537\n",
       "Mercury                              532\n",
       "Suzuki                               512\n",
       "Cadillac                             508\n",
       "Kia                                  493\n",
       "Plymouth                             456\n",
       "Saab                                 410\n",
       "Isuzu                                409\n",
       "Lexus                                397\n",
       "Oldsmobile                           376\n",
       "Infiniti                             345\n",
       "Jaguar                               343\n",
       "MINI                                 320\n",
       "Acura                                302\n",
       "Saturn                               278\n",
       "Lincoln                              273\n",
       "Ferrari                              208\n",
       "Rolls-Royce                          160\n",
       "Eagle                                156\n",
       "Geo                                  144\n",
       "Land Rover                           142\n",
       "Aston Martin                         133\n",
       "Bentley                              116\n",
       "Maserati                             111\n",
       "Lamborghini                          104\n",
       "Scion                                 83\n",
       "Peugeot                               74\n",
       "Daewoo                                67\n",
       "Ram                                   57\n",
       "Lotus                                 53\n",
       "Roush Performance                     53\n",
       "Fiat                                  43\n",
       "Alfa Romeo                            41\n",
       "J.K. Motors                           36\n",
       "Renault                               33\n",
       "Wallace Environmental                 32\n",
       "Maybach                               31\n",
       "American Motors Corporation           22\n",
       "smart                                 20\n",
       "Hummer                                19\n",
       "Daihatsu                              17\n",
       "CX Automotive                         16\n",
       "Merkur                                14\n",
       "Federal Coach                         14\n",
       "Import Trade Services                 13\n",
       "McLaren Automotive                    13\n",
       "Spyker                                13\n",
       "Sterling                              12\n",
       "Bugatti                                8\n",
       "Yugo                                   8\n",
       "Genesis                                7\n",
       "Tecstar, LP                            6\n",
       "Mcevoy Motors                          6\n",
       "Bertone                                5\n",
       "VPG                                    5\n",
       "Saleen                                 5\n",
       "Panther Car Company Limited            4\n",
       "Saleen Performance                     4\n",
       "AM General                             4\n",
       "Grumman Olson                          4\n",
       "Texas Coach Company                    4\n",
       "Vector                                 4\n",
       "Autokraft Limited                      4\n",
       "TVR Engineering Ltd                    4\n",
       "Bitter Gmbh and Co. Kg                 3\n",
       "Evans Automobiles                      3\n",
       "BMW Alpina                             3\n",
       "Consulier Industries Inc               3\n",
       "Dabryan Coach Builders Inc             3\n",
       "Dacia                                  3\n",
       "Dutton                                 3\n",
       "Morgan                                 3\n",
       "Ruf Automobile Gmbh                    2\n",
       "Bill Dovell Motor Car Company          2\n",
       "Mobility Ventures LLC                  2\n",
       "Laforza Automobile Inc                 2\n",
       "CCC Engineering                        2\n",
       "PAS Inc - GMC                          2\n",
       "PAS, Inc                               2\n",
       "SRT                                    2\n",
       "Pagani                                 2\n",
       "Red Shift Ltd.                         2\n",
       "Pininfarina                            2\n",
       "Quantum Technologies                   2\n",
       "Isis Imports Ltd                       1\n",
       "Mahindra                               1\n",
       "ASC Incorporated                       1\n",
       "Aurora Cars Ltd                        1\n",
       "Volga Associated Automobile            1\n",
       "Vixen Motor Company                    1\n",
       "JBA Motorcars, Inc.                    1\n",
       "London Coach Co Inc                    1\n",
       "London Taxi                            1\n",
       "Import Foreign Auto Sales Inc          1\n",
       "Environmental Rsch and Devp Corp       1\n",
       "Grumman Allied Industries              1\n",
       "Goldacre                               1\n",
       "General Motors                         1\n",
       "Shelby                                 1\n",
       "Fisker                                 1\n",
       "Panos                                  1\n",
       "Panoz Auto-Development                 1\n",
       "Excalibur Autos                        1\n",
       "Qvale                                  1\n",
       "Lambda Control Systems                 1\n",
       "Name: Make, dtype: int64"
      ]
     },
     "execution_count": 137,
     "metadata": {},
     "output_type": "execute_result"
    }
   ],
   "source": [
    "#Numbers of cars for each brands\n",
    "vehicles_df['Make'].value_counts()"
   ]
  },
  {
   "cell_type": "code",
   "execution_count": 140,
   "metadata": {},
   "outputs": [
    {
     "data": {
      "text/plain": [
       "0        1984\n",
       "1        1984\n",
       "2        1985\n",
       "3        1985\n",
       "4        1987\n",
       "         ... \n",
       "35947    2013\n",
       "35948    2014\n",
       "35949    2015\n",
       "35950    2016\n",
       "35951    2016\n",
       "Name: Year, Length: 35952, dtype: int64"
      ]
     },
     "execution_count": 140,
     "metadata": {},
     "output_type": "execute_result"
    }
   ],
   "source": [
    "#Years of production\n",
    "years = vehicles_df['Year']\n",
    "years"
   ]
  },
  {
   "cell_type": "code",
   "execution_count": 146,
   "metadata": {},
   "outputs": [
    {
     "data": {
      "text/plain": [
       "0        2.5\n",
       "1        4.2\n",
       "2        2.5\n",
       "3        4.2\n",
       "4        3.8\n",
       "        ... \n",
       "35947    1.0\n",
       "35948    1.0\n",
       "35949    1.0\n",
       "35950    0.9\n",
       "35951    0.9\n",
       "Name: Engine Displacement, Length: 35952, dtype: float64"
      ]
     },
     "execution_count": 146,
     "metadata": {},
     "output_type": "execute_result"
    }
   ],
   "source": [
    "#How big the engines are \n",
    "engine = vehicles_df['Engine Displacement']\n",
    "engine"
   ]
  },
  {
   "cell_type": "code",
   "execution_count": 150,
   "metadata": {},
   "outputs": [
    {
     "data": {
      "text/plain": [
       "Automatic 4-spd                     10585\n",
       "Manual 5-spd                         7787\n",
       "Automatic (S6)                       2631\n",
       "Automatic 3-spd                      2597\n",
       "Manual 6-spd                         2423\n",
       "Automatic 5-spd                      2171\n",
       "Automatic 6-spd                      1432\n",
       "Manual 4-spd                         1306\n",
       "Automatic (S8)                        960\n",
       "Automatic (S5)                        822\n",
       "Automatic (variable gear ratios)      675\n",
       "Automatic 7-spd                       662\n",
       "Automatic (S7)                        261\n",
       "Auto(AM-S7)                           256\n",
       "Automatic 8-spd                       243\n",
       "Automatic (S4)                        229\n",
       "Auto(AM7)                             157\n",
       "Auto(AV-S6)                           145\n",
       "Auto(AM6)                             110\n",
       "Auto(AM-S6)                            92\n",
       "Automatic 9-spd                        90\n",
       "Manual 3-spd                           74\n",
       "Manual 7-spd                           68\n",
       "Auto(AV-S7)                            63\n",
       "Auto(AV-S8)                            26\n",
       "Automatic (S9)                         26\n",
       "Auto(AM5)                              12\n",
       "Automatic (AV-S6)                       9\n",
       "Auto(AM-S8)                             6\n",
       "Auto(AM8)                               5\n",
       "Automatic (AV)                          4\n",
       "Automatic (A6)                          4\n",
       "Automatic (A1)                          3\n",
       "Manual(M7)                              3\n",
       "Auto (AV)                               2\n",
       "Auto(L4)                                2\n",
       "Auto(L3)                                2\n",
       "Automatic (AM5)                         2\n",
       "Auto(AM-S9)                             1\n",
       "Automatic 6spd                          1\n",
       "Auto (AV-S6)                            1\n",
       "Auto (AV-S8)                            1\n",
       "Auto(A1)                                1\n",
       "Automatic (AM6)                         1\n",
       "Manual 5 spd                            1\n",
       "Name: Transmission, dtype: int64"
      ]
     },
     "execution_count": 150,
     "metadata": {},
     "output_type": "execute_result"
    }
   ],
   "source": [
    "#Frequency of Transmission\n",
    "vehicles_df['Transmission'].value_counts()"
   ]
  },
  {
   "cell_type": "code",
   "execution_count": 151,
   "metadata": {},
   "outputs": [
    {
     "data": {
      "text/plain": [
       "Front-Wheel Drive             13044\n",
       "Rear-Wheel Drive              12726\n",
       "4-Wheel or All-Wheel Drive     6503\n",
       "All-Wheel Drive                2039\n",
       "4-Wheel Drive                  1058\n",
       "2-Wheel Drive                   423\n",
       "Part-time 4-Wheel Drive         158\n",
       "2-Wheel Drive, Front              1\n",
       "Name: Drivetrain, dtype: int64"
      ]
     },
     "execution_count": 151,
     "metadata": {},
     "output_type": "execute_result"
    }
   ],
   "source": [
    "#Frequency of Drivetrain\n",
    "vehicles_df['Drivetrain'].value_counts()"
   ]
  },
  {
   "cell_type": "code",
   "execution_count": 154,
   "metadata": {},
   "outputs": [
    {
     "data": {
      "text/plain": [
       "Regular                        23587\n",
       "Premium                         9921\n",
       "Gasoline or E85                 1195\n",
       "Diesel                           911\n",
       "Premium or E85                   121\n",
       "Midgrade                          74\n",
       "CNG                               60\n",
       "Premium and Electricity           20\n",
       "Gasoline or natural gas           20\n",
       "Premium Gas or Electricity        17\n",
       "Regular Gas and Electricity       16\n",
       "Gasoline or propane                8\n",
       "Regular Gas or Electricity         2\n",
       "Name: Fuel Type, dtype: int64"
      ]
     },
     "execution_count": 154,
     "metadata": {},
     "output_type": "execute_result"
    }
   ],
   "source": [
    "#Frequency of Fuel Type\n",
    "vehicles_df['Fuel Type'].value_counts()"
   ]
  },
  {
   "cell_type": "code",
   "execution_count": 166,
   "metadata": {},
   "outputs": [
    {
     "data": {
      "text/plain": [
       "Model\n",
       "1-Ton Truck 2WD      [15.695714285714288, 14.330869565217393, 16.48...\n",
       "100                           [18.311666666666667, 17.347894736842107]\n",
       "100 Wagon                     [18.311666666666667, 17.347894736842107]\n",
       "100 quattro                   [18.311666666666667, 19.388823529411766]\n",
       "100 quattro Wagon                                 [18.311666666666667]\n",
       "                                           ...                        \n",
       "iQ                              [9.155833333333334, 8.908378378378377]\n",
       "tC                   [14.330869565217393, 14.98227272727273, 13.733...\n",
       "xA                                                            [10.987]\n",
       "xB                   [11.771785714285713, 11.365862068965518, 13.73...\n",
       "xD                            [11.771785714285713, 11.365862068965518]\n",
       "Name: Fuel Barrels/Year, Length: 3608, dtype: object"
      ]
     },
     "execution_count": 166,
     "metadata": {},
     "output_type": "execute_result"
    }
   ],
   "source": [
    "#What's the car that consumes the least/most fuel?\n",
    "fuel = vehicles_df.groupby('Model')['Fuel Barrels/Year'].unique()\n",
    "fuel\n",
    "#-Couldn't find it!"
   ]
  },
  {
   "cell_type": "markdown",
   "metadata": {},
   "source": [
    "<b> (Optional)"
   ]
  },
  {
   "cell_type": "markdown",
   "metadata": {
    "id": "rcSnpI3I6Fg8"
   },
   "source": [
    "What brand has the worse CO2 Emissions on average?\n",
    "\n",
    "Hint: use the function `sort_values()`"
   ]
  },
  {
   "cell_type": "code",
   "execution_count": 28,
   "metadata": {
    "colab": {
     "base_uri": "https://localhost:8080/",
     "height": 686
    },
    "executionInfo": {
     "elapsed": 270,
     "status": "ok",
     "timestamp": 1623145362738,
     "user": {
      "displayName": "Ignacio Soteras",
      "photoUrl": "",
      "userId": "02050793736257155229"
     },
     "user_tz": -120
    },
    "id": "SV2s8Lm66Fg8",
    "outputId": "ca1f005a-f090-4cec-952f-8e20d3193b46"
   },
   "outputs": [],
   "source": [
    "## your Code here\n"
   ]
  },
  {
   "cell_type": "markdown",
   "metadata": {
    "id": "2avLmljX6Fg9"
   },
   "source": [
    "Do cars with automatic transmission consume more fuel than cars with manual transmission on average?"
   ]
  },
  {
   "cell_type": "code",
   "execution_count": 20,
   "metadata": {},
   "outputs": [],
   "source": [
    "## Your Code is here \n"
   ]
  }
 ],
 "metadata": {
  "colab": {
   "name": "Pandas_Grouping_Joining_Cars_Structure.ipynb",
   "provenance": []
  },
  "kernelspec": {
   "display_name": "Python 3 (ipykernel)",
   "language": "python",
   "name": "python3"
  },
  "language_info": {
   "codemirror_mode": {
    "name": "ipython",
    "version": 3
   },
   "file_extension": ".py",
   "mimetype": "text/x-python",
   "name": "python",
   "nbconvert_exporter": "python",
   "pygments_lexer": "ipython3",
   "version": "3.9.12"
  },
  "toc": {
   "base_numbering": 1,
   "nav_menu": {},
   "number_sections": false,
   "sideBar": true,
   "skip_h1_title": false,
   "title_cell": "Table of Contents",
   "title_sidebar": "Contents",
   "toc_cell": false,
   "toc_position": {},
   "toc_section_display": true,
   "toc_window_display": false
  },
  "varInspector": {
   "cols": {
    "lenName": 16,
    "lenType": 16,
    "lenVar": 40
   },
   "kernels_config": {
    "python": {
     "delete_cmd_postfix": "",
     "delete_cmd_prefix": "del ",
     "library": "var_list.py",
     "varRefreshCmd": "print(var_dic_list())"
    },
    "r": {
     "delete_cmd_postfix": ") ",
     "delete_cmd_prefix": "rm(",
     "library": "var_list.r",
     "varRefreshCmd": "cat(var_dic_list()) "
    }
   },
   "types_to_exclude": [
    "module",
    "function",
    "builtin_function_or_method",
    "instance",
    "_Feature"
   ],
   "window_display": false
  }
 },
 "nbformat": 4,
 "nbformat_minor": 1
}
