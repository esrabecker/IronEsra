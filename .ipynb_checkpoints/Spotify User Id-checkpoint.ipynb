{
 "cells": [
  {
   "cell_type": "markdown",
   "id": "cda2a909",
   "metadata": {},
   "source": [
    "Client ID 8fb59ba5c621479bbb6ebe43564f7df2\n",
    "\n",
    "Client Secret b925949e750b40dd8062a2b5a38b7e8b"
   ]
  },
  {
   "cell_type": "code",
   "execution_count": 2,
   "id": "b636e9a9",
   "metadata": {},
   "outputs": [],
   "source": [
    "import spotipy\n",
    "from spotipy.oauth2 import SpotifyClientCredentials\n",
    "\n",
    "\n",
    "c_id = \"8fb59ba5c621479bbb6ebe43564f7df2\"\n",
    "c_se =\"b925949e750b40dd8062a2b5a38b7e8b\"\n",
    "\n",
    "sp = spotipy.Spotify(auth_manager=SpotifyClientCredentials(client_id=c_id, client_secret=c_se))"
   ]
  },
  {
   "cell_type": "code",
   "execution_count": null,
   "id": "114ef151",
   "metadata": {},
   "outputs": [],
   "source": []
  }
 ],
 "metadata": {
  "kernelspec": {
   "display_name": "Python 3 (ipykernel)",
   "language": "python",
   "name": "python3"
  },
  "language_info": {
   "codemirror_mode": {
    "name": "ipython",
    "version": 3
   },
   "file_extension": ".py",
   "mimetype": "text/x-python",
   "name": "python",
   "nbconvert_exporter": "python",
   "pygments_lexer": "ipython3",
   "version": "3.9.12"
  },
  "toc": {
   "base_numbering": 1,
   "nav_menu": {},
   "number_sections": true,
   "sideBar": true,
   "skip_h1_title": false,
   "title_cell": "Table of Contents",
   "title_sidebar": "Contents",
   "toc_cell": false,
   "toc_position": {},
   "toc_section_display": true,
   "toc_window_display": false
  }
 },
 "nbformat": 4,
 "nbformat_minor": 5
}
