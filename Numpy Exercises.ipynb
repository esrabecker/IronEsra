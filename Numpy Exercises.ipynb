{
 "cells": [
  {
   "cell_type": "markdown",
   "id": "d8fe65ff",
   "metadata": {},
   "source": [
    "# Numpy Lab Exercises"
   ]
  },
  {
   "cell_type": "markdown",
   "id": "581d5984",
   "metadata": {},
   "source": [
    "This is a collection of exercises that have been collected in the numpy mailing list, on stack overflow and in the numpy documentation. The goal of this collection is to offer a quick reference for both old and new users but also to provide a set of exercises for those who teach.\n",
    "\n",
    "If you find an error or think you've a better way to solve some of them, feel free to open an issue at https://github.com/rougier/numpy-100. File automatically generated. See the documentation to update questions/answers/hints programmatically.\n",
    "\n",
    "\n",
    "\n",
    "1. Import the numpy package under the name np (★☆☆)\n",
    "hint: import … as"
   ]
  },
  {
   "cell_type": "code",
   "execution_count": 2,
   "id": "20f29fad",
   "metadata": {},
   "outputs": [],
   "source": [
    "import numpy as np"
   ]
  },
  {
   "cell_type": "markdown",
   "id": "694c5ed3",
   "metadata": {},
   "source": [
    "2. Create a null vector of size 10 (★☆☆)\n",
    "hint: np.zeros"
   ]
  },
  {
   "cell_type": "code",
   "execution_count": 6,
   "id": "794d9746",
   "metadata": {},
   "outputs": [
    {
     "name": "stdout",
     "output_type": "stream",
     "text": [
      "[0. 0. 0. 0. 0. 0. 0. 0. 0. 0.]\n"
     ]
    }
   ],
   "source": [
    "x=np.zeros(10)\n",
    "print(x)"
   ]
  },
  {
   "cell_type": "markdown",
   "id": "12fa48cb",
   "metadata": {},
   "source": [
    "3. Create a null vector of size 10 but the fifth value which is 1 (★☆☆)\n",
    "hint: array[4]"
   ]
  },
  {
   "cell_type": "code",
   "execution_count": 10,
   "id": "38b75ec6",
   "metadata": {},
   "outputs": [
    {
     "name": "stdout",
     "output_type": "stream",
     "text": [
      "[0. 0. 0. 0. 1. 0. 0. 0. 0. 0.]\n"
     ]
    }
   ],
   "source": [
    "x=np.zeros(10)\n",
    "x[4]=1\n",
    "print(x)"
   ]
  },
  {
   "cell_type": "markdown",
   "id": "9b00d56a",
   "metadata": {},
   "source": [
    "4. Create a vector with values ranging from 10 to 49 (★☆☆)\n",
    "hint: arange"
   ]
  },
  {
   "cell_type": "code",
   "execution_count": 11,
   "id": "8901d2a4",
   "metadata": {},
   "outputs": [
    {
     "name": "stdout",
     "output_type": "stream",
     "text": [
      "[10 11 12 13 14 15 16 17 18 19 20 21 22 23 24 25 26 27 28 29 30 31 32 33\n",
      " 34 35 36 37 38 39 40 41 42 43 44 45 46 47 48]\n"
     ]
    }
   ],
   "source": [
    "v = np.arange(10,49)\n",
    "print(v)"
   ]
  },
  {
   "cell_type": "markdown",
   "id": "c4f44ecc",
   "metadata": {},
   "source": [
    "5. Create a 3x3 matrix with values ranging from 0 to 8 (★☆☆)\n",
    "hint: reshape"
   ]
  },
  {
   "cell_type": "code",
   "execution_count": 15,
   "id": "5790eeef",
   "metadata": {},
   "outputs": [
    {
     "name": "stdout",
     "output_type": "stream",
     "text": [
      "[[0 1 2]\n",
      " [3 4 5]\n",
      " [6 7 8]]\n"
     ]
    }
   ],
   "source": [
    "Z = np.arange(9).reshape(3, 3)\n",
    "print(Z)"
   ]
  },
  {
   "cell_type": "markdown",
   "id": "f3fadf5f",
   "metadata": {},
   "source": [
    "6. Find indices of non-zero elements from [1,2,0,0,4,0] (★☆☆)\n",
    "hint: np.nonzero"
   ]
  },
  {
   "cell_type": "code",
   "execution_count": 17,
   "id": "c4fc22d1",
   "metadata": {},
   "outputs": [
    {
     "name": "stdout",
     "output_type": "stream",
     "text": [
      "Input  array : \n",
      " [1 2 0 0 4 0]\n",
      "Indices of non zero elements :  (array([0, 1, 4]),)\n"
     ]
    }
   ],
   "source": [
    "import numpy as np\n",
    "arr = np.array([1,2,0,0,4,0])\n",
    "  \n",
    "print (\"Input  array : \\n\", arr)\n",
    "    \n",
    "out_tpl = np.nonzero(arr)\n",
    "print (\"Indices of non zero elements : \", out_tpl) "
   ]
  },
  {
   "cell_type": "markdown",
   "id": "9aa3026d",
   "metadata": {},
   "source": [
    "7. Create a 3x3 identity matrix hint: np.eye"
   ]
  },
  {
   "cell_type": "code",
   "execution_count": 19,
   "id": "ae3668ca",
   "metadata": {},
   "outputs": [
    {
     "name": "stdout",
     "output_type": "stream",
     "text": [
      "[[1. 0. 0.]\n",
      " [0. 1. 0.]\n",
      " [0. 0. 1.]]\n"
     ]
    }
   ],
   "source": [
    "x = np.eye(3)\n",
    "print(x)"
   ]
  },
  {
   "cell_type": "markdown",
   "id": "fd109a3a",
   "metadata": {},
   "source": [
    "8. Create a 3x3x3 array with random values \n",
    "hint: np.random.random"
   ]
  },
  {
   "cell_type": "code",
   "execution_count": 21,
   "id": "8142ea5a",
   "metadata": {},
   "outputs": [
    {
     "name": "stdout",
     "output_type": "stream",
     "text": [
      "[[[0.44141673 0.85495005 0.90318604]\n",
      "  [0.39623655 0.88207347 0.82020124]\n",
      "  [0.44133411 0.87367215 0.22816965]]\n",
      "\n",
      " [[0.6712788  0.01969787 0.49092507]\n",
      "  [0.96002875 0.72885112 0.1884892 ]\n",
      "  [0.25642447 0.29195514 0.65368554]]\n",
      "\n",
      " [[0.20866517 0.81321841 0.20125771]\n",
      "  [0.90091212 0.07503575 0.82568576]\n",
      "  [0.58271685 0.19155728 0.44899526]]]\n"
     ]
    }
   ],
   "source": [
    "x = np.random.random((3,3,3))\n",
    "print(x)"
   ]
  },
  {
   "cell_type": "markdown",
   "id": "98c26159",
   "metadata": {},
   "source": [
    "9. Create a 10x10 array with random values and find the minimum and maximum values \n",
    "hint: min, max"
   ]
  },
  {
   "cell_type": "code",
   "execution_count": 23,
   "id": "73aca469",
   "metadata": {},
   "outputs": [
    {
     "name": "stdout",
     "output_type": "stream",
     "text": [
      "Original Array:\n",
      "[[0.96151322 0.97867693 0.02155984 0.16613212 0.22805608 0.81865575\n",
      "  0.415656   0.49095175 0.93477308 0.32970762]\n",
      " [0.85307415 0.96005197 0.63396068 0.02445885 0.93479867 0.57846682\n",
      "  0.22431634 0.27392944 0.70581797 0.99955413]\n",
      " [0.27731076 0.8288548  0.73485606 0.80167827 0.96834584 0.37379866\n",
      "  0.77947957 0.60056513 0.19237294 0.53034343]\n",
      " [0.13920481 0.89005013 0.04740811 0.0658663  0.9938482  0.927962\n",
      "  0.20969099 0.82571771 0.31671185 0.39408724]\n",
      " [0.68986141 0.0767365  0.98091395 0.836426   0.42378036 0.09572694\n",
      "  0.44601475 0.66956166 0.37889269 0.78675486]\n",
      " [0.31634933 0.59988541 0.61600015 0.36566403 0.27915503 0.94058283\n",
      "  0.40974737 0.90056297 0.15484481 0.63542465]\n",
      " [0.34558968 0.1374005  0.43557689 0.62027388 0.44227683 0.59726402\n",
      "  0.89420265 0.39130233 0.266421   0.75782887]\n",
      " [0.57182057 0.20284701 0.37402033 0.08325864 0.50401824 0.66581571\n",
      "  0.47824684 0.35805909 0.30143726 0.04566068]\n",
      " [0.87542431 0.06861198 0.23004626 0.85095637 0.88810334 0.3386308\n",
      "  0.56712561 0.16383857 0.05428701 0.53512307]\n",
      " [0.69003844 0.4736816  0.44581408 0.70421021 0.38775619 0.77840665\n",
      "  0.38816583 0.9449388  0.85063537 0.9492496 ]]\n",
      "Minimum and Maximum Values:\n",
      "0.021559840043659184 0.9995541305965435\n"
     ]
    }
   ],
   "source": [
    "x = np.random.random((10,10))\n",
    "print(\"Original Array:\")\n",
    "print(x) \n",
    "xmin, xmax = x.min(), x.max()\n",
    "print(\"Minimum and Maximum Values:\")\n",
    "print(xmin, xmax)"
   ]
  },
  {
   "cell_type": "markdown",
   "id": "3a0fccee",
   "metadata": {},
   "source": [
    "10. Create a random vector of size 30 and find the mean value \n",
    "hint: mean"
   ]
  },
  {
   "cell_type": "code",
   "execution_count": 34,
   "id": "114064d0",
   "metadata": {},
   "outputs": [
    {
     "name": "stdout",
     "output_type": "stream",
     "text": [
      "Original array:\n",
      "[0.29061454 0.64363965 0.13867828 0.60020904 0.44688239 0.23138894\n",
      " 0.57575783 0.10396474 0.62741164 0.22764927 0.11843595 0.93644035\n",
      " 0.09767653 0.58457198 0.9488134  0.1778644  0.06945954 0.10611446\n",
      " 0.60724096 0.43473416 0.75183128 0.88124698 0.2149029  0.75021395\n",
      " 0.66687728 0.47116288 0.47552669 0.00885142 0.43053149 0.04611402]\n"
     ]
    },
    {
     "data": {
      "text/plain": [
       "0.4221602313096064"
      ]
     },
     "execution_count": 34,
     "metadata": {},
     "output_type": "execute_result"
    }
   ],
   "source": [
    "x = np.random.random(30)\n",
    "print(\"Original array:\")\n",
    "print(x)\n",
    "np.mean(x)"
   ]
  },
  {
   "cell_type": "markdown",
   "id": "d2272e4f",
   "metadata": {},
   "source": [
    "11. Create a 5x5 matrix with values 1,2,3,4 just below the diagonal \n",
    "hint: np.diag"
   ]
  },
  {
   "cell_type": "code",
   "execution_count": 29,
   "id": "6f9237bf",
   "metadata": {},
   "outputs": [
    {
     "name": "stdout",
     "output_type": "stream",
     "text": [
      "[[1 0 0 0]\n",
      " [0 2 0 0]\n",
      " [0 0 3 0]\n",
      " [0 0 0 4]]\n"
     ]
    }
   ],
   "source": [
    "x = np.diag([1, 2, 3, 4])\n",
    "print(x)"
   ]
  },
  {
   "cell_type": "markdown",
   "id": "895c553a",
   "metadata": {},
   "source": [
    "12. Normalize a 5x5 random matrix \n",
    "hint: (x -mean)/std"
   ]
  },
  {
   "cell_type": "code",
   "execution_count": 31,
   "id": "de11591a",
   "metadata": {},
   "outputs": [
    {
     "name": "stdout",
     "output_type": "stream",
     "text": [
      "Original Array:\n",
      "[[0.87429315 0.02035378 0.38489613 0.35736894 0.54025917]\n",
      " [0.68529817 0.49448349 0.49115109 0.94172735 0.2255861 ]\n",
      " [0.33188081 0.85687327 0.11599611 0.81822917 0.89012468]\n",
      " [0.28939513 0.2515919  0.74461544 0.36876432 0.56483291]\n",
      " [0.79405246 0.43867379 0.32645037 0.72728242 0.03506244]]\n",
      "[[0.92681123 0.         0.39565098 0.36577472 0.5642721 ]\n",
      " [0.72168815 0.51459009 0.51097332 1.         0.22274605]\n",
      " [0.33811153 0.9079048  0.10380408 0.86596297 0.94399376]\n",
      " [0.29200029 0.25097108 0.78606733 0.37814254 0.59094285]\n",
      " [0.83972312 0.45401781 0.33221768 0.76725518 0.01596384]]\n"
     ]
    }
   ],
   "source": [
    "df= np.random.random((5,5))\n",
    "print(\"Original Array:\")\n",
    "print(df)\n",
    "dfmax, dfmin = df.max(), df.min()\n",
    "df = (df - dfmin)/(dfmax - dfmin)\n",
    "print(df)"
   ]
  },
  {
   "cell_type": "markdown",
   "id": "aa4e58a0",
   "metadata": {},
   "source": [
    "13. How to find common values between two arrays? \n",
    "hint: np.intersect1d"
   ]
  },
  {
   "cell_type": "code",
   "execution_count": 33,
   "id": "8a178757",
   "metadata": {},
   "outputs": [
    {
     "name": "stdout",
     "output_type": "stream",
     "text": [
      "[1 3 4]\n"
     ]
    }
   ],
   "source": [
    "x = np.array([0, 1, 2, 3, 4])\n",
    "y = [1, 3, 4]\n",
    "  \n",
    "# Common values between two arrays\n",
    "print(np.intersect1d(x, y))"
   ]
  },
  {
   "cell_type": "markdown",
   "id": "1699f5ca",
   "metadata": {},
   "source": [
    "14. Create a random vector of size 10 and sort it \n",
    "hint: sort"
   ]
  },
  {
   "cell_type": "code",
   "execution_count": 37,
   "id": "2e1d9907",
   "metadata": {},
   "outputs": [
    {
     "name": "stdout",
     "output_type": "stream",
     "text": [
      "[0.11074996 0.20882419 0.3205199  0.5292046  0.92975514 0.63410419\n",
      " 0.98634098 0.49850218 0.35114581 0.33501637]\n",
      "[0.11074996 0.20882419 0.3205199  0.33501637 0.35114581 0.49850218\n",
      " 0.5292046  0.63410419 0.92975514 0.98634098]\n"
     ]
    }
   ],
   "source": [
    "x = np.random.random(10)\n",
    "print(x)\n",
    "x.sort()\n",
    "print(x)"
   ]
  },
  {
   "cell_type": "markdown",
   "id": "34a581d1",
   "metadata": {},
   "source": [
    "15. Create random vector of size 10 and replace the maximum value by 0 \n",
    "hint: argmax"
   ]
  },
  {
   "cell_type": "code",
   "execution_count": 41,
   "id": "d74edbdb",
   "metadata": {},
   "outputs": [
    {
     "name": "stdout",
     "output_type": "stream",
     "text": [
      "[0.36375726 0.12891779 0.38369817 0.14076317 0.63906952 0.87992764\n",
      " 0.59321067 0.94610562 0.74465886 0.18725144]\n",
      "[0.36375726 0.12891779 0.38369817 0.14076317 0.63906952 0.87992764\n",
      " 0.59321067 0.         0.74465886 0.18725144]\n"
     ]
    }
   ],
   "source": [
    "x = np.random.random(10)\n",
    "print(x)\n",
    "x[x.argmax()] = 0\n",
    "print(x)"
   ]
  },
  {
   "cell_type": "markdown",
   "id": "de2cdd0c",
   "metadata": {},
   "source": [
    "16. Subtract the mean of each row of a matrix \n",
    "hint: mean(axis=,keepdims=)"
   ]
  },
  {
   "cell_type": "code",
   "execution_count": 44,
   "id": "c553e22a",
   "metadata": {},
   "outputs": [
    {
     "name": "stdout",
     "output_type": "stream",
     "text": [
      "[[ 0.24911721 -0.62428864  0.24218817 -0.12240924  0.13734994  0.11804255]\n",
      " [ 0.20688667  0.03486784 -0.105595    0.08111978 -0.21250441 -0.00477488]\n",
      " [-0.11160975 -0.09142553 -0.32556948 -0.02340794  0.39269376  0.15931894]\n",
      " [-0.36460307 -0.43911163  0.4232491  -0.09781692  0.13340709  0.34487544]\n",
      " [ 0.46734738  0.33161933 -0.18925132 -0.28931454  0.1159289  -0.43632975]]\n"
     ]
    }
   ],
   "source": [
    "x = np.random.rand(5, 6)\n",
    "y = x - x.mean(axis=1, keepdims=True)\n",
    "print(y)"
   ]
  },
  {
   "cell_type": "markdown",
   "id": "37f1a05c",
   "metadata": {},
   "source": [
    "17. How to get the n largest values of an array \n",
    "Z = np.arange(10000) np.random.shuffle(Z) n = 5 hint: np.argsort | np.argpartition"
   ]
  },
  {
   "cell_type": "code",
   "execution_count": 50,
   "id": "a5177888",
   "metadata": {},
   "outputs": [
    {
     "name": "stdout",
     "output_type": "stream",
     "text": [
      "[   0    1    2 ... 9997 9998 9999]\n",
      "[9995 9996 9997 9998 9999]\n"
     ]
    }
   ],
   "source": [
    "arr = np.arange(10000)\n",
    "np.random.shuffle(arr) \n",
    "n = 5\n",
    "sorted_index_array = np.argsort(arr)\n",
    "sorted_array = arr[sorted_index_array]\n",
    "print(sorted_array)\n",
    "rslt = sorted_array[-n : ]\n",
    "print(rslt)"
   ]
  },
  {
   "cell_type": "markdown",
   "id": "8f8f8470",
   "metadata": {},
   "source": [
    "18. Create a random 5*3 matrix and replace items that are larger than 4 by their squares ( Example: 6 --> 36)\n",
    "hint: np.where"
   ]
  },
  {
   "cell_type": "code",
   "execution_count": 62,
   "id": "7961cbae",
   "metadata": {},
   "outputs": [
    {
     "name": "stdout",
     "output_type": "stream",
     "text": [
      "[[2 1 6]\n",
      " [0 9 3]\n",
      " [1 0 4]\n",
      " [5 1 9]\n",
      " [2 3 5]]\n",
      "[[ 2  1 36]\n",
      " [ 0 81  3]\n",
      " [ 1  0 16]\n",
      " [25  1 81]\n",
      " [ 2  3 25]]\n"
     ]
    }
   ],
   "source": [
    "x = np.random.randint(0,10, (5, 3))\n",
    "print(x)\n",
    "y = np.where(x < 4, x, x**2)\n",
    "print(y)"
   ]
  }
 ],
 "metadata": {
  "kernelspec": {
   "display_name": "Python 3 (ipykernel)",
   "language": "python",
   "name": "python3"
  },
  "language_info": {
   "codemirror_mode": {
    "name": "ipython",
    "version": 3
   },
   "file_extension": ".py",
   "mimetype": "text/x-python",
   "name": "python",
   "nbconvert_exporter": "python",
   "pygments_lexer": "ipython3",
   "version": "3.9.12"
  },
  "toc": {
   "base_numbering": 1,
   "nav_menu": {},
   "number_sections": true,
   "sideBar": true,
   "skip_h1_title": false,
   "title_cell": "Table of Contents",
   "title_sidebar": "Contents",
   "toc_cell": false,
   "toc_position": {},
   "toc_section_display": true,
   "toc_window_display": false
  }
 },
 "nbformat": 4,
 "nbformat_minor": 5
}
